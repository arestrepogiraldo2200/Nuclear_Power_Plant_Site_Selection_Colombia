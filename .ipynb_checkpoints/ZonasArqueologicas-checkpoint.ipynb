{
 "cells": [
  {
   "cell_type": "code",
   "execution_count": 1,
   "id": "c3f7f8c2",
   "metadata": {},
   "outputs": [],
   "source": [
    "import geopandas as gpd\n",
    "import json"
   ]
  },
  {
   "cell_type": "code",
   "execution_count": 2,
   "id": "42007c03",
   "metadata": {},
   "outputs": [
    {
     "data": {
      "text/html": [
       "<div>\n",
       "<style scoped>\n",
       "    .dataframe tbody tr th:only-of-type {\n",
       "        vertical-align: middle;\n",
       "    }\n",
       "\n",
       "    .dataframe tbody tr th {\n",
       "        vertical-align: top;\n",
       "    }\n",
       "\n",
       "    .dataframe thead th {\n",
       "        text-align: right;\n",
       "    }\n",
       "</style>\n",
       "<table border=\"1\" class=\"dataframe\">\n",
       "  <thead>\n",
       "    <tr style=\"text-align: right;\">\n",
       "      <th></th>\n",
       "      <th>geometry</th>\n",
       "    </tr>\n",
       "  </thead>\n",
       "  <tbody>\n",
       "    <tr>\n",
       "      <th>0</th>\n",
       "      <td>POINT (4616228.128 1992329.102)</td>\n",
       "    </tr>\n",
       "    <tr>\n",
       "      <th>1</th>\n",
       "      <td>POINT (4661107.116 2309234.730)</td>\n",
       "    </tr>\n",
       "    <tr>\n",
       "      <th>2</th>\n",
       "      <td>POINT (4550064.086 2009573.923)</td>\n",
       "    </tr>\n",
       "    <tr>\n",
       "      <th>3</th>\n",
       "      <td>POINT (4700153.336 2058566.614)</td>\n",
       "    </tr>\n",
       "    <tr>\n",
       "      <th>4</th>\n",
       "      <td>POINT (4992025.134 2308416.590)</td>\n",
       "    </tr>\n",
       "    <tr>\n",
       "      <th>...</th>\n",
       "      <td>...</td>\n",
       "    </tr>\n",
       "    <tr>\n",
       "      <th>16995</th>\n",
       "      <td>POINT (4942265.257 2628030.017)</td>\n",
       "    </tr>\n",
       "    <tr>\n",
       "      <th>16996</th>\n",
       "      <td>POINT (4548672.900 1777996.416)</td>\n",
       "    </tr>\n",
       "    <tr>\n",
       "      <th>16997</th>\n",
       "      <td>POINT (5007093.585 2371237.268)</td>\n",
       "    </tr>\n",
       "    <tr>\n",
       "      <th>16998</th>\n",
       "      <td>POINT (4649794.609 2000263.567)</td>\n",
       "    </tr>\n",
       "    <tr>\n",
       "      <th>16999</th>\n",
       "      <td>POINT (4662373.860 1802978.994)</td>\n",
       "    </tr>\n",
       "  </tbody>\n",
       "</table>\n",
       "<p>17000 rows × 1 columns</p>\n",
       "</div>"
      ],
      "text/plain": [
       "                              geometry\n",
       "0      POINT (4616228.128 1992329.102)\n",
       "1      POINT (4661107.116 2309234.730)\n",
       "2      POINT (4550064.086 2009573.923)\n",
       "3      POINT (4700153.336 2058566.614)\n",
       "4      POINT (4992025.134 2308416.590)\n",
       "...                                ...\n",
       "16995  POINT (4942265.257 2628030.017)\n",
       "16996  POINT (4548672.900 1777996.416)\n",
       "16997  POINT (5007093.585 2371237.268)\n",
       "16998  POINT (4649794.609 2000263.567)\n",
       "16999  POINT (4662373.860 1802978.994)\n",
       "\n",
       "[17000 rows x 1 columns]"
      ]
     },
     "execution_count": 2,
     "metadata": {},
     "output_type": "execute_result"
    }
   ],
   "source": [
    "df = gpd.read_file('./ZonasArqueologicas/SITIOS_ARQUEOLOGICOS.shp', crs='EPSG:3857')\n",
    "#df = df.set_crs(epsg = \"4326\", inplace = True)\n",
    "#df = df.to_crs(crs=4326) \n",
    "df"
   ]
  },
  {
   "cell_type": "code",
   "execution_count": null,
   "id": "6bcc8561",
   "metadata": {},
   "outputs": [],
   "source": [
    "df.plot()"
   ]
  },
  {
   "cell_type": "code",
   "execution_count": null,
   "id": "c761ad4e",
   "metadata": {},
   "outputs": [],
   "source": [
    "df1 = gpd.read_file('./ZonasArqueologicas/areas_arqueologicas.shp')\n",
    "#df1 = df.to_crs(crs=4326)\n",
    "df1 = df1.explode()\n",
    "df1 = df1.reset_index()\n",
    "df1 = df1.drop([\"level_0\", \"level_1\"], axis=1)\n",
    "df1"
   ]
  },
  {
   "cell_type": "code",
   "execution_count": null,
   "id": "9dfffad4",
   "metadata": {},
   "outputs": [],
   "source": [
    "df1.plot(figsize=(20,10))"
   ]
  },
  {
   "cell_type": "code",
   "execution_count": null,
   "id": "7fd5dbb3",
   "metadata": {},
   "outputs": [],
   "source": [
    "datajson = []\n",
    "for i in range(0,len(df1)):\n",
    "    \n",
    "    try:\n",
    "    \n",
    "        area = df1[\"geometry\"][i].exterior.coords\n",
    "\n",
    "        arr = []\n",
    "\n",
    "        for j in range(0,len(area)):\n",
    "            arr.append(area[j][1])\n",
    "            arr.append(area[j][0])\n",
    "            arr.append(0)\n",
    "\n",
    "        datajson.append(arr)\n",
    "        \n",
    "    except:\n",
    "        print(\"error \",df1[\"geometry\"][i])"
   ]
  },
  {
   "cell_type": "code",
   "execution_count": null,
   "id": "8be81235",
   "metadata": {},
   "outputs": [],
   "source": [
    "save_file3 = open(\"ZonasArqueologicas.json\", \"w\") \n",
    "json.dump(datajson, save_file3, indent = 6) \n",
    "save_file3.close() "
   ]
  },
  {
   "cell_type": "code",
   "execution_count": null,
   "id": "ce88b56a",
   "metadata": {},
   "outputs": [],
   "source": []
  },
  {
   "cell_type": "code",
   "execution_count": null,
   "id": "3164f474",
   "metadata": {},
   "outputs": [],
   "source": []
  },
  {
   "cell_type": "code",
   "execution_count": null,
   "id": "826dc37d",
   "metadata": {},
   "outputs": [],
   "source": []
  }
 ],
 "metadata": {
  "kernelspec": {
   "display_name": "Python 3 (ipykernel)",
   "language": "python",
   "name": "python3"
  },
  "language_info": {
   "codemirror_mode": {
    "name": "ipython",
    "version": 3
   },
   "file_extension": ".py",
   "mimetype": "text/x-python",
   "name": "python",
   "nbconvert_exporter": "python",
   "pygments_lexer": "ipython3",
   "version": "3.7.6"
  }
 },
 "nbformat": 4,
 "nbformat_minor": 5
}
