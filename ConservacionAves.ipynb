{
 "cells": [
  {
   "cell_type": "code",
   "execution_count": 1,
   "id": "c3f7f8c2",
   "metadata": {},
   "outputs": [],
   "source": [
    "import geopandas as gpd\n",
    "import json"
   ]
  },
  {
   "cell_type": "code",
   "execution_count": 2,
   "id": "42007c03",
   "metadata": {},
   "outputs": [
    {
     "data": {
      "text/html": [
       "<div>\n",
       "<style scoped>\n",
       "    .dataframe tbody tr th:only-of-type {\n",
       "        vertical-align: middle;\n",
       "    }\n",
       "\n",
       "    .dataframe tbody tr th {\n",
       "        vertical-align: top;\n",
       "    }\n",
       "\n",
       "    .dataframe thead th {\n",
       "        text-align: right;\n",
       "    }\n",
       "</style>\n",
       "<table border=\"1\" class=\"dataframe\">\n",
       "  <thead>\n",
       "    <tr style=\"text-align: right;\">\n",
       "      <th></th>\n",
       "      <th>AREA</th>\n",
       "      <th>PERIMETER</th>\n",
       "      <th>CODIGO_BLI</th>\n",
       "      <th>AICA</th>\n",
       "      <th>geometry</th>\n",
       "    </tr>\n",
       "  </thead>\n",
       "  <tbody>\n",
       "    <tr>\n",
       "      <th>0</th>\n",
       "      <td>11998600.0</td>\n",
       "      <td>17992.00</td>\n",
       "      <td>CO001</td>\n",
       "      <td>Reserva de Biosfera Seaflower</td>\n",
       "      <td>POLYGON ((-81.35445 13.37581, -81.35101 13.378...</td>\n",
       "    </tr>\n",
       "    <tr>\n",
       "      <th>1</th>\n",
       "      <td>1293090.0</td>\n",
       "      <td>5955.64</td>\n",
       "      <td>CO001</td>\n",
       "      <td>Reserva de Biosfera Seaflower</td>\n",
       "      <td>POLYGON ((-81.37189 13.39474, -81.37182 13.394...</td>\n",
       "    </tr>\n",
       "    <tr>\n",
       "      <th>2</th>\n",
       "      <td>19847700.0</td>\n",
       "      <td>22977.20</td>\n",
       "      <td>CO001</td>\n",
       "      <td>Reserva de Biosfera Seaflower</td>\n",
       "      <td>POLYGON ((-81.37015 13.37598, -81.37016 13.376...</td>\n",
       "    </tr>\n",
       "    <tr>\n",
       "      <th>3</th>\n",
       "      <td>1189030.0</td>\n",
       "      <td>9307.19</td>\n",
       "      <td>CO001</td>\n",
       "      <td>Reserva de Biosfera Seaflower</td>\n",
       "      <td>POLYGON ((-81.35445 13.37581, -81.35446 13.375...</td>\n",
       "    </tr>\n",
       "    <tr>\n",
       "      <th>4</th>\n",
       "      <td>27273900.0</td>\n",
       "      <td>40604.50</td>\n",
       "      <td>CO001</td>\n",
       "      <td>Reserva de Biosfera Seaflower</td>\n",
       "      <td>POLYGON ((-81.70355 12.59433, -81.70345 12.594...</td>\n",
       "    </tr>\n",
       "    <tr>\n",
       "      <th>...</th>\n",
       "      <td>...</td>\n",
       "      <td>...</td>\n",
       "      <td>...</td>\n",
       "      <td>...</td>\n",
       "      <td>...</td>\n",
       "    </tr>\n",
       "    <tr>\n",
       "      <th>119</th>\n",
       "      <td>364919000.0</td>\n",
       "      <td>94405.10</td>\n",
       "      <td>NaN</td>\n",
       "      <td>TAPARAS</td>\n",
       "      <td>POLYGON ((-71.23947 5.55646, -71.23399 5.56676...</td>\n",
       "    </tr>\n",
       "    <tr>\n",
       "      <th>120</th>\n",
       "      <td>13448800.0</td>\n",
       "      <td>24763.80</td>\n",
       "      <td>NaN</td>\n",
       "      <td>RESERVAS DE ALTAGRACIA</td>\n",
       "      <td>POLYGON ((-70.81908 5.33459, -70.77989 5.35971...</td>\n",
       "    </tr>\n",
       "    <tr>\n",
       "      <th>121</th>\n",
       "      <td>51533300.0</td>\n",
       "      <td>30657.60</td>\n",
       "      <td>NaN</td>\n",
       "      <td>limites bojonawi</td>\n",
       "      <td>POLYGON ((-67.52452 6.01819, -67.52475 6.01819...</td>\n",
       "    </tr>\n",
       "    <tr>\n",
       "      <th>122</th>\n",
       "      <td>163985000.0</td>\n",
       "      <td>75617.60</td>\n",
       "      <td>NaN</td>\n",
       "      <td>LA AURORA</td>\n",
       "      <td>POLYGON ((-71.32638 6.08606, -71.32495 6.08270...</td>\n",
       "    </tr>\n",
       "    <tr>\n",
       "      <th>123</th>\n",
       "      <td>29198600.0</td>\n",
       "      <td>25977.10</td>\n",
       "      <td>NaN</td>\n",
       "      <td>CHAVIRIPA-EL RUBI</td>\n",
       "      <td>POLYGON ((-70.73947 5.60911, -70.72671 5.61236...</td>\n",
       "    </tr>\n",
       "  </tbody>\n",
       "</table>\n",
       "<p>124 rows × 5 columns</p>\n",
       "</div>"
      ],
      "text/plain": [
       "            AREA  PERIMETER CODIGO_BLI                           AICA  \\\n",
       "0     11998600.0   17992.00      CO001  Reserva de Biosfera Seaflower   \n",
       "1      1293090.0    5955.64      CO001  Reserva de Biosfera Seaflower   \n",
       "2     19847700.0   22977.20      CO001  Reserva de Biosfera Seaflower   \n",
       "3      1189030.0    9307.19      CO001  Reserva de Biosfera Seaflower   \n",
       "4     27273900.0   40604.50      CO001  Reserva de Biosfera Seaflower   \n",
       "..           ...        ...        ...                            ...   \n",
       "119  364919000.0   94405.10        NaN                        TAPARAS   \n",
       "120   13448800.0   24763.80        NaN         RESERVAS DE ALTAGRACIA   \n",
       "121   51533300.0   30657.60        NaN               limites bojonawi   \n",
       "122  163985000.0   75617.60        NaN                      LA AURORA   \n",
       "123   29198600.0   25977.10        NaN              CHAVIRIPA-EL RUBI   \n",
       "\n",
       "                                              geometry  \n",
       "0    POLYGON ((-81.35445 13.37581, -81.35101 13.378...  \n",
       "1    POLYGON ((-81.37189 13.39474, -81.37182 13.394...  \n",
       "2    POLYGON ((-81.37015 13.37598, -81.37016 13.376...  \n",
       "3    POLYGON ((-81.35445 13.37581, -81.35446 13.375...  \n",
       "4    POLYGON ((-81.70355 12.59433, -81.70345 12.594...  \n",
       "..                                                 ...  \n",
       "119  POLYGON ((-71.23947 5.55646, -71.23399 5.56676...  \n",
       "120  POLYGON ((-70.81908 5.33459, -70.77989 5.35971...  \n",
       "121  POLYGON ((-67.52452 6.01819, -67.52475 6.01819...  \n",
       "122  POLYGON ((-71.32638 6.08606, -71.32495 6.08270...  \n",
       "123  POLYGON ((-70.73947 5.60911, -70.72671 5.61236...  \n",
       "\n",
       "[124 rows x 5 columns]"
      ]
     },
     "execution_count": 2,
     "metadata": {},
     "output_type": "execute_result"
    }
   ],
   "source": [
    "df = gpd.read_file('./AreasAves/aicas.shp')\n",
    "df = df.to_crs(crs=4326)\n",
    "df"
   ]
  },
  {
   "cell_type": "code",
   "execution_count": 3,
   "id": "9dfffad4",
   "metadata": {},
   "outputs": [
    {
     "data": {
      "text/plain": [
       "<AxesSubplot:>"
      ]
     },
     "execution_count": 3,
     "metadata": {},
     "output_type": "execute_result"
    },
    {
     "data": {
      "image/png": "[encoded data removed]",
      "text/plain": [
       "<Figure size 640x480 with 1 Axes>"
      ]
     },
     "metadata": {},
     "output_type": "display_data"
    }
   ],
   "source": [
    "df.plot()"
   ]
  },
  {
   "cell_type": "code",
   "execution_count": 4,
   "id": "748c4f27",
   "metadata": {},
   "outputs": [],
   "source": [
    "\n",
    "datajson = []\n",
    "for i in range(0,len(df)):\n",
    "    \n",
    "    area = df[\"geometry\"][i].exterior.coords\n",
    "    arr = []\n",
    "    \n",
    "    for j in range(0,len(area)):\n",
    "        arr.append(area[j][1])\n",
    "        arr.append(area[j][0])\n",
    "        arr.append(0)\n",
    "        \n",
    "    datajson.append(arr)\n"
   ]
  },
  {
   "cell_type": "code",
   "execution_count": 5,
   "id": "8be81235",
   "metadata": {},
   "outputs": [],
   "source": [
    "save_file3 = open(\"ConservacionAves.json\", \"w\") \n",
    "json.dump(datajson, save_file3, indent = 6) \n",
    "save_file3.close() "
   ]
  },
  {
   "cell_type": "code",
   "execution_count": null,
   "id": "ce88b56a",
   "metadata": {},
   "outputs": [],
   "source": []
  },
  {
   "cell_type": "code",
   "execution_count": null,
   "id": "257376fd",
   "metadata": {},
   "outputs": [],
   "source": []
  },
  {
   "cell_type": "code",
   "execution_count": null,
   "id": "900ab640",
   "metadata": {},
   "outputs": [],
   "source": []
  }
 ],
 "metadata": {
  "kernelspec": {
   "display_name": "Python 3 (ipykernel)",
   "language": "python",
   "name": "python3"
  },
  "language_info": {
   "codemirror_mode": {
    "name": "ipython",
    "version": 3
   },
   "file_extension": ".py",
   "mimetype": "text/x-python",
   "name": "python",
   "nbconvert_exporter": "python",
   "pygments_lexer": "ipython3",
   "version": "3.7.6"
  }
 },
 "nbformat": 4,
 "nbformat_minor": 5
}
