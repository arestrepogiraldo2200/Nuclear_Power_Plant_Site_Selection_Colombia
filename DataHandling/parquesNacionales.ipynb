{
 "cells": [
  {
   "cell_type": "code",
   "execution_count": 28,
   "id": "c664c72f",
   "metadata": {},
   "outputs": [],
   "source": [
    "import pandas as pd\n",
    "import numpy as np\n",
    "import json"
   ]
  },
  {
   "cell_type": "code",
   "execution_count": 29,
   "id": "9e77f60b",
   "metadata": {},
   "outputs": [],
   "source": [
    "# Opening JSON file\n",
    "f = open('Parques_Nacionales_Naturales_de_Colombia.json')\n",
    "\n",
    "# Dictionary\n",
    "data = json.load(f)  \n",
    "\n",
    "#print(data[0][\"geometry\"][\"coordinates\"])\n",
    "\n",
    "f.close()"
   ]
  },
  {
   "cell_type": "code",
   "execution_count": 30,
   "id": "a60718cf",
   "metadata": {},
   "outputs": [],
   "source": [
    "def flatten_list(_2d_list):\n",
    "    flat_list = []\n",
    "    # Iterate through the outer list\n",
    "    for element in _2d_list:\n",
    "        if type(element) is list:\n",
    "            # If the element is of type list, iterate through the sublist\n",
    "            for item in element:\n",
    "                flat_list.append(item)\n",
    "        else:\n",
    "            flat_list.append(element)\n",
    "    return flat_list\n",
    "    \n",
    "datajson = []\n",
    "\n",
    "for i in range(len(data)):\n",
    "        \n",
    "    datajson.append({\"coords\": data[i][\"geometry\"][\"coordinates\"]})\n",
    "    #print(len(data[i][\"geometry\"][\"coordinates\"]))\n",
    "    \n",
    "for i in range(len(datajson)):\n",
    "    \n",
    "    for j in range(len(datajson[i])):\n",
    "        \n",
    "        if (len(datajson[i][\"coords\"][j]) != 2):\n",
    "            \n",
    "            datajson[i][\"coords\"] = flatten_list(datajson[i][\"coords\"])\n",
    "            break"
   ]
  },
  {
   "cell_type": "code",
   "execution_count": 31,
   "id": "e9f6ac64",
   "metadata": {},
   "outputs": [
    {
     "name": "stdout",
     "output_type": "stream",
     "text": [
      "58\n"
     ]
    }
   ],
   "source": [
    "print(len(datajson))"
   ]
  },
  {
   "cell_type": "code",
   "execution_count": 32,
   "id": "acd8a6c9",
   "metadata": {},
   "outputs": [
    {
     "name": "stdout",
     "output_type": "stream",
     "text": [
      "58\n"
     ]
    }
   ],
   "source": [
    "datajson2 = []\n",
    "\n",
    "for j in range(0, len(datajson)):\n",
    "    array = []\n",
    "                          # Takes 1 out of 6 coordinates in the database\n",
    "    for i in range(0,len(datajson[j][\"coords\"]), 6):\n",
    "        array.append(datajson[j][\"coords\"][i][1])\n",
    "        array.append(datajson[j][\"coords\"][i][0])\n",
    "        array.append(0)\n",
    "    \n",
    "    datajson2.append(array)\n",
    "\n",
    "#print(datajson2)\n",
    "print(len(datajson2))\n",
    " \n",
    "\n"
   ]
  },
  {
   "cell_type": "code",
   "execution_count": 33,
   "id": "7a8912e3",
   "metadata": {},
   "outputs": [],
   "source": [
    "save_file3 = open(\"ParquesNacionalesDepurados.json\", \"w\") \n",
    "json.dump(datajson2, save_file3, indent = 6) \n",
    "save_file3.close() "
   ]
  },
  {
   "cell_type": "code",
   "execution_count": null,
   "id": "13aa7262",
   "metadata": {},
   "outputs": [],
   "source": []
  },
  {
   "cell_type": "code",
   "execution_count": null,
   "id": "ec905bff",
   "metadata": {},
   "outputs": [],
   "source": []
  }
 ],
 "metadata": {
  "kernelspec": {
   "display_name": "Python 3 (ipykernel)",
   "language": "python",
   "name": "python3"
  },
  "language_info": {
   "codemirror_mode": {
    "name": "ipython",
    "version": 3
   },
   "file_extension": ".py",
   "mimetype": "text/x-python",
   "name": "python",
   "nbconvert_exporter": "python",
   "pygments_lexer": "ipython3",
   "version": "3.7.6"
  }
 },
 "nbformat": 4,
 "nbformat_minor": 5
}
