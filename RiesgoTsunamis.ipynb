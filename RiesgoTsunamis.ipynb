{
 "cells": [
  {
   "cell_type": "code",
   "execution_count": 1,
   "id": "c3f7f8c2",
   "metadata": {},
   "outputs": [],
   "source": [
    "import geopandas as gpd\n",
    "import json"
   ]
  },
  {
   "cell_type": "code",
   "execution_count": 33,
   "id": "42007c03",
   "metadata": {},
   "outputs": [
    {
     "name": "stderr",
     "output_type": "stream",
     "text": [
      "/home/alejandro/anaconda3/lib/python3.7/site-packages/geopandas/geoseries.py:924: ShapelyDeprecationWarning: The 'type' attribute is deprecated, and will be removed in the future. You can use the 'geom_type' attribute instead.\n",
      "  if s.type.startswith(\"Multi\") or s.type == \"GeometryCollection\":\n"
     ]
    },
    {
     "data": {
      "text/html": [
       "<div>\n",
       "<style scoped>\n",
       "    .dataframe tbody tr th:only-of-type {\n",
       "        vertical-align: middle;\n",
       "    }\n",
       "\n",
       "    .dataframe tbody tr th {\n",
       "        vertical-align: top;\n",
       "    }\n",
       "\n",
       "    .dataframe thead th {\n",
       "        text-align: right;\n",
       "    }\n",
       "</style>\n",
       "<table border=\"1\" class=\"dataframe\">\n",
       "  <thead>\n",
       "    <tr style=\"text-align: right;\">\n",
       "      <th></th>\n",
       "      <th>level_0</th>\n",
       "      <th>level_1</th>\n",
       "      <th>layer</th>\n",
       "      <th>Shape_Leng</th>\n",
       "      <th>Shape_Area</th>\n",
       "      <th>geometry</th>\n",
       "    </tr>\n",
       "  </thead>\n",
       "  <tbody>\n",
       "    <tr>\n",
       "      <th>0</th>\n",
       "      <td>0</td>\n",
       "      <td>0</td>\n",
       "      <td>ATLANTIC_157_TR475</td>\n",
       "      <td>4.080337e+06</td>\n",
       "      <td>2.470090e+09</td>\n",
       "      <td>POLYGON ((-83.55414 10.68770, -83.55414 10.678...</td>\n",
       "    </tr>\n",
       "    <tr>\n",
       "      <th>1</th>\n",
       "      <td>0</td>\n",
       "      <td>1</td>\n",
       "      <td>ATLANTIC_157_TR475</td>\n",
       "      <td>4.080337e+06</td>\n",
       "      <td>2.470090e+09</td>\n",
       "      <td>POLYGON ((-83.63554 10.72388, -83.63554 10.714...</td>\n",
       "    </tr>\n",
       "    <tr>\n",
       "      <th>2</th>\n",
       "      <td>0</td>\n",
       "      <td>2</td>\n",
       "      <td>ATLANTIC_157_TR475</td>\n",
       "      <td>4.080337e+06</td>\n",
       "      <td>2.470090e+09</td>\n",
       "      <td>POLYGON ((-83.59032 10.74197, -83.58127 10.741...</td>\n",
       "    </tr>\n",
       "    <tr>\n",
       "      <th>3</th>\n",
       "      <td>0</td>\n",
       "      <td>3</td>\n",
       "      <td>ATLANTIC_157_TR475</td>\n",
       "      <td>4.080337e+06</td>\n",
       "      <td>2.470090e+09</td>\n",
       "      <td>POLYGON ((-83.60841 10.74197, -83.60841 10.732...</td>\n",
       "    </tr>\n",
       "    <tr>\n",
       "      <th>4</th>\n",
       "      <td>0</td>\n",
       "      <td>4</td>\n",
       "      <td>ATLANTIC_157_TR475</td>\n",
       "      <td>4.080337e+06</td>\n",
       "      <td>2.470090e+09</td>\n",
       "      <td>POLYGON ((-83.59032 10.74197, -83.59936 10.741...</td>\n",
       "    </tr>\n",
       "    <tr>\n",
       "      <th>...</th>\n",
       "      <td>...</td>\n",
       "      <td>...</td>\n",
       "      <td>...</td>\n",
       "      <td>...</td>\n",
       "      <td>...</td>\n",
       "      <td>...</td>\n",
       "    </tr>\n",
       "    <tr>\n",
       "      <th>1538</th>\n",
       "      <td>5</td>\n",
       "      <td>447</td>\n",
       "      <td>INDIANPACIFIC_175_TR475</td>\n",
       "      <td>6.015034e+06</td>\n",
       "      <td>5.092791e+09</td>\n",
       "      <td>POLYGON ((-77.63165 6.98139, -77.62261 6.98139...</td>\n",
       "    </tr>\n",
       "    <tr>\n",
       "      <th>1539</th>\n",
       "      <td>5</td>\n",
       "      <td>448</td>\n",
       "      <td>INDIANPACIFIC_175_TR475</td>\n",
       "      <td>6.015034e+06</td>\n",
       "      <td>5.092791e+09</td>\n",
       "      <td>POLYGON ((-77.63165 6.98139, -77.64069 6.98139...</td>\n",
       "    </tr>\n",
       "    <tr>\n",
       "      <th>1540</th>\n",
       "      <td>5</td>\n",
       "      <td>449</td>\n",
       "      <td>INDIANPACIFIC_175_TR475</td>\n",
       "      <td>6.015034e+06</td>\n",
       "      <td>5.092791e+09</td>\n",
       "      <td>POLYGON ((-77.64069 7.00852, -77.64069 6.99948...</td>\n",
       "    </tr>\n",
       "    <tr>\n",
       "      <th>1541</th>\n",
       "      <td>5</td>\n",
       "      <td>450</td>\n",
       "      <td>INDIANPACIFIC_175_TR475</td>\n",
       "      <td>6.015034e+06</td>\n",
       "      <td>5.092791e+09</td>\n",
       "      <td>POLYGON ((-77.64069 7.00852, -77.64069 7.01757...</td>\n",
       "    </tr>\n",
       "    <tr>\n",
       "      <th>1542</th>\n",
       "      <td>5</td>\n",
       "      <td>451</td>\n",
       "      <td>INDIANPACIFIC_175_TR475</td>\n",
       "      <td>6.015034e+06</td>\n",
       "      <td>5.092791e+09</td>\n",
       "      <td>POLYGON ((-77.64974 6.99948, -77.64974 6.99044...</td>\n",
       "    </tr>\n",
       "  </tbody>\n",
       "</table>\n",
       "<p>1543 rows × 6 columns</p>\n",
       "</div>"
      ],
      "text/plain": [
       "      level_0  level_1                    layer    Shape_Leng    Shape_Area  \\\n",
       "0           0        0       ATLANTIC_157_TR475  4.080337e+06  2.470090e+09   \n",
       "1           0        1       ATLANTIC_157_TR475  4.080337e+06  2.470090e+09   \n",
       "2           0        2       ATLANTIC_157_TR475  4.080337e+06  2.470090e+09   \n",
       "3           0        3       ATLANTIC_157_TR475  4.080337e+06  2.470090e+09   \n",
       "4           0        4       ATLANTIC_157_TR475  4.080337e+06  2.470090e+09   \n",
       "...       ...      ...                      ...           ...           ...   \n",
       "1538        5      447  INDIANPACIFIC_175_TR475  6.015034e+06  5.092791e+09   \n",
       "1539        5      448  INDIANPACIFIC_175_TR475  6.015034e+06  5.092791e+09   \n",
       "1540        5      449  INDIANPACIFIC_175_TR475  6.015034e+06  5.092791e+09   \n",
       "1541        5      450  INDIANPACIFIC_175_TR475  6.015034e+06  5.092791e+09   \n",
       "1542        5      451  INDIANPACIFIC_175_TR475  6.015034e+06  5.092791e+09   \n",
       "\n",
       "                                               geometry  \n",
       "0     POLYGON ((-83.55414 10.68770, -83.55414 10.678...  \n",
       "1     POLYGON ((-83.63554 10.72388, -83.63554 10.714...  \n",
       "2     POLYGON ((-83.59032 10.74197, -83.58127 10.741...  \n",
       "3     POLYGON ((-83.60841 10.74197, -83.60841 10.732...  \n",
       "4     POLYGON ((-83.59032 10.74197, -83.59936 10.741...  \n",
       "...                                                 ...  \n",
       "1538  POLYGON ((-77.63165 6.98139, -77.62261 6.98139...  \n",
       "1539  POLYGON ((-77.63165 6.98139, -77.64069 6.98139...  \n",
       "1540  POLYGON ((-77.64069 7.00852, -77.64069 6.99948...  \n",
       "1541  POLYGON ((-77.64069 7.00852, -77.64069 7.01757...  \n",
       "1542  POLYGON ((-77.64974 6.99948, -77.64974 6.99044...  \n",
       "\n",
       "[1543 rows x 6 columns]"
      ]
     },
     "execution_count": 33,
     "metadata": {},
     "output_type": "execute_result"
    }
   ],
   "source": [
    "df = gpd.read_file('./Tsunamis/Tsunamis_Continental_TR475.shp')\n",
    "df = df.to_crs(crs=4326)\n",
    "df = df.explode(index_parts=True)\n",
    "df = df.reset_index()\n",
    "df"
   ]
  },
  {
   "cell_type": "code",
   "execution_count": 41,
   "id": "72ac8c78",
   "metadata": {},
   "outputs": [
    {
     "name": "stderr",
     "output_type": "stream",
     "text": [
      "/home/alejandro/anaconda3/lib/python3.7/site-packages/geopandas/geoseries.py:924: ShapelyDeprecationWarning: The 'type' attribute is deprecated, and will be removed in the future. You can use the 'geom_type' attribute instead.\n",
      "  if s.type.startswith(\"Multi\") or s.type == \"GeometryCollection\":\n"
     ]
    },
    {
     "data": {
      "text/html": [
       "<div>\n",
       "<style scoped>\n",
       "    .dataframe tbody tr th:only-of-type {\n",
       "        vertical-align: middle;\n",
       "    }\n",
       "\n",
       "    .dataframe tbody tr th {\n",
       "        vertical-align: top;\n",
       "    }\n",
       "\n",
       "    .dataframe thead th {\n",
       "        text-align: right;\n",
       "    }\n",
       "</style>\n",
       "<table border=\"1\" class=\"dataframe\">\n",
       "  <thead>\n",
       "    <tr style=\"text-align: right;\">\n",
       "      <th></th>\n",
       "      <th>level_0</th>\n",
       "      <th>level_1</th>\n",
       "      <th>Zona_expue</th>\n",
       "      <th>Shape_Leng</th>\n",
       "      <th>geometry</th>\n",
       "    </tr>\n",
       "  </thead>\n",
       "  <tbody>\n",
       "    <tr>\n",
       "      <th>0</th>\n",
       "      <td>0</td>\n",
       "      <td>0</td>\n",
       "      <td>No</td>\n",
       "      <td>18130.997883</td>\n",
       "      <td>LINESTRING (-81.72975 12.51478, -81.72975 12.5...</td>\n",
       "    </tr>\n",
       "    <tr>\n",
       "      <th>1</th>\n",
       "      <td>0</td>\n",
       "      <td>1</td>\n",
       "      <td>No</td>\n",
       "      <td>18130.997883</td>\n",
       "      <td>LINESTRING (-81.71301 12.52364, -81.71303 12.5...</td>\n",
       "    </tr>\n",
       "    <tr>\n",
       "      <th>2</th>\n",
       "      <td>0</td>\n",
       "      <td>2</td>\n",
       "      <td>No</td>\n",
       "      <td>18130.997883</td>\n",
       "      <td>LINESTRING (-81.70422 12.55084, -81.70423 12.5...</td>\n",
       "    </tr>\n",
       "    <tr>\n",
       "      <th>3</th>\n",
       "      <td>0</td>\n",
       "      <td>3</td>\n",
       "      <td>No</td>\n",
       "      <td>18130.997883</td>\n",
       "      <td>LINESTRING (-81.70011 12.59119, -81.70009 12.5...</td>\n",
       "    </tr>\n",
       "    <tr>\n",
       "      <th>4</th>\n",
       "      <td>0</td>\n",
       "      <td>4</td>\n",
       "      <td>No</td>\n",
       "      <td>18130.997883</td>\n",
       "      <td>LINESTRING (-81.39371 13.34665, -81.39370 13.3...</td>\n",
       "    </tr>\n",
       "  </tbody>\n",
       "</table>\n",
       "</div>"
      ],
      "text/plain": [
       "   level_0  level_1 Zona_expue    Shape_Leng  \\\n",
       "0        0        0         No  18130.997883   \n",
       "1        0        1         No  18130.997883   \n",
       "2        0        2         No  18130.997883   \n",
       "3        0        3         No  18130.997883   \n",
       "4        0        4         No  18130.997883   \n",
       "\n",
       "                                            geometry  \n",
       "0  LINESTRING (-81.72975 12.51478, -81.72975 12.5...  \n",
       "1  LINESTRING (-81.71301 12.52364, -81.71303 12.5...  \n",
       "2  LINESTRING (-81.70422 12.55084, -81.70423 12.5...  \n",
       "3  LINESTRING (-81.70011 12.59119, -81.70009 12.5...  \n",
       "4  LINESTRING (-81.39371 13.34665, -81.39370 13.3...  "
      ]
     },
     "execution_count": 41,
     "metadata": {},
     "output_type": "execute_result"
    }
   ],
   "source": [
    "df1 = gpd.read_file('./Tsunamis/Tsunamis_SAyP_TR475.shp')\n",
    "df1 = df1.to_crs(crs=4326)\n",
    "df1 = df1.explode(index_parts=True)\n",
    "df1 = df1.reset_index()\n",
    "df1.head()"
   ]
  },
  {
   "cell_type": "code",
   "execution_count": 35,
   "id": "9dfffad4",
   "metadata": {},
   "outputs": [
    {
     "data": {
      "text/plain": [
       "<AxesSubplot:>"
      ]
     },
     "execution_count": 35,
     "metadata": {},
     "output_type": "execute_result"
    },
    {
     "data": {
      "image/png": "[encoded data removed]",
      "text/plain": [
       "<Figure size 640x480 with 1 Axes>"
      ]
     },
     "metadata": {},
     "output_type": "display_data"
    }
   ],
   "source": [
    "df.plot()"
   ]
  },
  {
   "cell_type": "code",
   "execution_count": 36,
   "id": "1328f5d7",
   "metadata": {},
   "outputs": [
    {
     "data": {
      "text/plain": [
       "<AxesSubplot:>"
      ]
     },
     "execution_count": 36,
     "metadata": {},
     "output_type": "execute_result"
    },
    {
     "data": {
      "image/png": "[encoded data removed]",
      "text/plain": [
       "<Figure size 640x480 with 1 Axes>"
      ]
     },
     "metadata": {},
     "output_type": "display_data"
    }
   ],
   "source": [
    "df1.plot()"
   ]
  },
  {
   "cell_type": "code",
   "execution_count": 49,
   "id": "748c4f27",
   "metadata": {},
   "outputs": [],
   "source": [
    "\n",
    "datajson = []\n",
    "for i in range(0,len(df)):\n",
    "    \n",
    "    area = df[\"geometry\"][i].exterior.coords\n",
    "    arr = []\n",
    "    \n",
    "    for j in range(0,len(area)):\n",
    "        arr.append(area[j][1])\n",
    "        arr.append(area[j][0])\n",
    "        arr.append(0)\n",
    "        \n",
    "    datajson.append(arr)\n"
   ]
  },
  {
   "cell_type": "code",
   "execution_count": 50,
   "id": "8be81235",
   "metadata": {},
   "outputs": [],
   "source": [
    "save_file3 = open(\"Tsunami.json\", \"w\") \n",
    "json.dump(datajson, save_file3, indent = 6) \n",
    "save_file3.close() "
   ]
  },
  {
   "cell_type": "code",
   "execution_count": null,
   "id": "aecd4b4f",
   "metadata": {},
   "outputs": [],
   "source": []
  }
 ],
 "metadata": {
  "kernelspec": {
   "display_name": "Python 3 (ipykernel)",
   "language": "python",
   "name": "python3"
  },
  "language_info": {
   "codemirror_mode": {
    "name": "ipython",
    "version": 3
   },
   "file_extension": ".py",
   "mimetype": "text/x-python",
   "name": "python",
   "nbconvert_exporter": "python",
   "pygments_lexer": "ipython3",
   "version": "3.7.6"
  }
 },
 "nbformat": 4,
 "nbformat_minor": 5
}
