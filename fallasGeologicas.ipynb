{
 "cells": [
  {
   "cell_type": "code",
   "execution_count": 12,
   "id": "c8ae86b8",
   "metadata": {},
   "outputs": [],
   "source": [
    "import pandas as pd\n",
    "import numpy as np\n",
    "import json"
   ]
  },
  {
   "cell_type": "code",
   "execution_count": 13,
   "id": "ba2ec105",
   "metadata": {},
   "outputs": [],
   "source": [
    "# Opening JSON file\n",
    "f = open('fallasGeologicas.json')\n",
    "\n",
    "# Dictionary\n",
    "data = json.load(f)  \n",
    "\n",
    "#print(data[0][\"geometry\"][\"coordinates\"])\n",
    "\n",
    "f.close()"
   ]
  },
  {
   "cell_type": "code",
   "execution_count": 14,
   "id": "62d86b75",
   "metadata": {},
   "outputs": [],
   "source": [
    "def flatten_list(_2d_list):\n",
    "    flat_list = []\n",
    "    # Iterate through the outer list\n",
    "    for element in _2d_list:\n",
    "        if type(element) is list:\n",
    "            # If the element is of type list, iterate through the sublist\n",
    "            for item in element:\n",
    "                flat_list.append(item)\n",
    "        else:\n",
    "            flat_list.append(element)\n",
    "    return flat_list\n",
    "    \n",
    "datajson = []\n",
    "\n",
    "for i in range(len(data)):\n",
    "        \n",
    "    datajson.append({\"coords\": data[i][\"geometry\"][\"coordinates\"]})\n",
    "    \n",
    "for i in range(len(datajson)):\n",
    "    \n",
    "    for j in range(len(datajson[i])):\n",
    "        \n",
    "        if (len(datajson[i][\"coords\"][j]) != 2):\n",
    "            \n",
    "            datajson[i][\"coords\"] = flatten_list(datajson[i][\"coords\"])\n",
    "            break\n",
    "            "
   ]
  },
  {
   "cell_type": "code",
   "execution_count": 15,
   "id": "04f9cd7c",
   "metadata": {},
   "outputs": [],
   "source": [
    "save_file3 = open(\"fallasGeologicasDepurado.json\", \"w\") \n",
    "json.dump(datajson, save_file3, indent = 6) \n",
    "save_file3.close() "
   ]
  },
  {
   "cell_type": "code",
   "execution_count": null,
   "id": "a058ede8",
   "metadata": {},
   "outputs": [],
   "source": []
  },
  {
   "cell_type": "code",
   "execution_count": null,
   "id": "d3ee48f7",
   "metadata": {},
   "outputs": [],
   "source": []
  }
 ],
 "metadata": {
  "kernelspec": {
   "display_name": "Python 3 (ipykernel)",
   "language": "python",
   "name": "python3"
  },
  "language_info": {
   "codemirror_mode": {
    "name": "ipython",
    "version": 3
   },
   "file_extension": ".py",
   "mimetype": "text/x-python",
   "name": "python",
   "nbconvert_exporter": "python",
   "pygments_lexer": "ipython3",
   "version": "3.7.6"
  }
 },
 "nbformat": 4,
 "nbformat_minor": 5
}
